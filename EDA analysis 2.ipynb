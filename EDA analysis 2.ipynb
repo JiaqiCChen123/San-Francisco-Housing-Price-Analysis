{
 "cells": [
  {
   "cell_type": "code",
   "execution_count": 25,
   "metadata": {},
   "outputs": [],
   "source": [
    "import numpy as np\n",
    "import pandas as pd"
   ]
  },
  {
   "cell_type": "code",
   "execution_count": 26,
   "metadata": {},
   "outputs": [],
   "source": [
    "# get crime data prior to May 2018\n",
    "police = pd.read_csv(\"Police_Department_Incident_Reports__Historical_2003_to_May_2018.csv\")\n",
    "police=police[['IncidntNum','Category','Y','X','Date', 'PdDistrict']]"
   ]
  },
  {
   "cell_type": "code",
   "execution_count": 27,
   "metadata": {},
   "outputs": [],
   "source": [
    "police['Year'] = police.Date.str[-4:]\n",
    "police.columns = ['IncidntNum','Category','lat','lon','Date', 'PdDistrict', 'Year']"
   ]
  },
  {
   "cell_type": "code",
   "execution_count": 28,
   "metadata": {},
   "outputs": [],
   "source": [
    "# get crime data after May 2018\n",
    "police2018 = pd.read_csv(\"/Users/yao/Downloads/Police_Department_Incident_Reports__2018_to_Present.csv\")"
   ]
  },
  {
   "cell_type": "code",
   "execution_count": 29,
   "metadata": {},
   "outputs": [
    {
     "data": {
      "text/html": [
       "<div>\n",
       "<style scoped>\n",
       "    .dataframe tbody tr th:only-of-type {\n",
       "        vertical-align: middle;\n",
       "    }\n",
       "\n",
       "    .dataframe tbody tr th {\n",
       "        vertical-align: top;\n",
       "    }\n",
       "\n",
       "    .dataframe thead th {\n",
       "        text-align: right;\n",
       "    }\n",
       "</style>\n",
       "<table border=\"1\" class=\"dataframe\">\n",
       "  <thead>\n",
       "    <tr style=\"text-align: right;\">\n",
       "      <th></th>\n",
       "      <th>IncidntNum</th>\n",
       "      <th>Category</th>\n",
       "      <th>lat</th>\n",
       "      <th>lon</th>\n",
       "      <th>Date</th>\n",
       "      <th>Year</th>\n",
       "      <th>PdDistrict</th>\n",
       "    </tr>\n",
       "  </thead>\n",
       "  <tbody>\n",
       "    <tr>\n",
       "      <th>0</th>\n",
       "      <td>180908554</td>\n",
       "      <td>Other Miscellaneous</td>\n",
       "      <td>37.784908</td>\n",
       "      <td>-122.404795</td>\n",
       "      <td>2018/12/02</td>\n",
       "      <td>2018</td>\n",
       "      <td>Southern</td>\n",
       "    </tr>\n",
       "    <tr>\n",
       "      <th>1</th>\n",
       "      <td>180908112</td>\n",
       "      <td>Lost Property</td>\n",
       "      <td>37.786410</td>\n",
       "      <td>-122.408036</td>\n",
       "      <td>2018/12/01</td>\n",
       "      <td>2018</td>\n",
       "      <td>Central</td>\n",
       "    </tr>\n",
       "    <tr>\n",
       "      <th>217</th>\n",
       "      <td>196076472</td>\n",
       "      <td>Larceny Theft</td>\n",
       "      <td>37.766871</td>\n",
       "      <td>-122.416549</td>\n",
       "      <td>2018/11/16</td>\n",
       "      <td>2018</td>\n",
       "      <td>Mission</td>\n",
       "    </tr>\n",
       "    <tr>\n",
       "      <th>322</th>\n",
       "      <td>180625134</td>\n",
       "      <td>Larceny Theft</td>\n",
       "      <td>37.777400</td>\n",
       "      <td>-122.407015</td>\n",
       "      <td>2018/08/19</td>\n",
       "      <td>2018</td>\n",
       "      <td>Southern</td>\n",
       "    </tr>\n",
       "    <tr>\n",
       "      <th>381</th>\n",
       "      <td>196076290</td>\n",
       "      <td>Larceny Theft</td>\n",
       "      <td>NaN</td>\n",
       "      <td>NaN</td>\n",
       "      <td>2018/12/31</td>\n",
       "      <td>2018</td>\n",
       "      <td>Bayview</td>\n",
       "    </tr>\n",
       "  </tbody>\n",
       "</table>\n",
       "</div>"
      ],
      "text/plain": [
       "     IncidntNum             Category        lat         lon        Date  Year  \\\n",
       "0     180908554  Other Miscellaneous  37.784908 -122.404795  2018/12/02  2018   \n",
       "1     180908112        Lost Property  37.786410 -122.408036  2018/12/01  2018   \n",
       "217   196076472        Larceny Theft  37.766871 -122.416549  2018/11/16  2018   \n",
       "322   180625134        Larceny Theft  37.777400 -122.407015  2018/08/19  2018   \n",
       "381   196076290        Larceny Theft        NaN         NaN  2018/12/31  2018   \n",
       "\n",
       "    PdDistrict  \n",
       "0     Southern  \n",
       "1      Central  \n",
       "217    Mission  \n",
       "322   Southern  \n",
       "381    Bayview  "
      ]
     },
     "execution_count": 29,
     "metadata": {},
     "output_type": "execute_result"
    }
   ],
   "source": [
    "police2018=police2018[['Incident Number','Incident Category','Latitude','Longitude','Incident Date','Incident Year', 'Police District']]\n",
    "police2018.columns = ['IncidntNum','Category','lat','lon','Date', 'Year', 'PdDistrict']\n",
    "police2018 = police2018.loc[police2018.Year==2018]\n",
    "police2018.head()"
   ]
  },
  {
   "cell_type": "code",
   "execution_count": 30,
   "metadata": {},
   "outputs": [
    {
     "data": {
      "text/html": [
       "<div>\n",
       "<style scoped>\n",
       "    .dataframe tbody tr th:only-of-type {\n",
       "        vertical-align: middle;\n",
       "    }\n",
       "\n",
       "    .dataframe tbody tr th {\n",
       "        vertical-align: top;\n",
       "    }\n",
       "\n",
       "    .dataframe thead th {\n",
       "        text-align: right;\n",
       "    }\n",
       "</style>\n",
       "<table border=\"1\" class=\"dataframe\">\n",
       "  <thead>\n",
       "    <tr style=\"text-align: right;\">\n",
       "      <th></th>\n",
       "      <th>IncidntNum</th>\n",
       "      <th>Category</th>\n",
       "      <th>lat</th>\n",
       "      <th>lon</th>\n",
       "      <th>Date</th>\n",
       "      <th>Year</th>\n",
       "      <th>PdDistrict</th>\n",
       "    </tr>\n",
       "  </thead>\n",
       "  <tbody>\n",
       "    <tr>\n",
       "      <th>0</th>\n",
       "      <td>180362289</td>\n",
       "      <td>VEHICLE THEFT</td>\n",
       "      <td>37.775207</td>\n",
       "      <td>-122.411912</td>\n",
       "      <td>05/15/2018</td>\n",
       "      <td>2018</td>\n",
       "      <td>SOUTHERN</td>\n",
       "    </tr>\n",
       "    <tr>\n",
       "      <th>1</th>\n",
       "      <td>180360948</td>\n",
       "      <td>NON-CRIMINAL</td>\n",
       "      <td>37.775146</td>\n",
       "      <td>-122.419258</td>\n",
       "      <td>05/15/2018</td>\n",
       "      <td>2018</td>\n",
       "      <td>SOUTHERN</td>\n",
       "    </tr>\n",
       "    <tr>\n",
       "      <th>2</th>\n",
       "      <td>180360879</td>\n",
       "      <td>OTHER OFFENSES</td>\n",
       "      <td>37.757101</td>\n",
       "      <td>-122.417813</td>\n",
       "      <td>05/15/2018</td>\n",
       "      <td>2018</td>\n",
       "      <td>MISSION</td>\n",
       "    </tr>\n",
       "    <tr>\n",
       "      <th>3</th>\n",
       "      <td>180360879</td>\n",
       "      <td>OTHER OFFENSES</td>\n",
       "      <td>37.757101</td>\n",
       "      <td>-122.417813</td>\n",
       "      <td>05/15/2018</td>\n",
       "      <td>2018</td>\n",
       "      <td>MISSION</td>\n",
       "    </tr>\n",
       "    <tr>\n",
       "      <th>4</th>\n",
       "      <td>180360879</td>\n",
       "      <td>OTHER OFFENSES</td>\n",
       "      <td>37.757101</td>\n",
       "      <td>-122.417813</td>\n",
       "      <td>05/15/2018</td>\n",
       "      <td>2018</td>\n",
       "      <td>MISSION</td>\n",
       "    </tr>\n",
       "  </tbody>\n",
       "</table>\n",
       "</div>"
      ],
      "text/plain": [
       "   IncidntNum        Category        lat         lon        Date  Year  \\\n",
       "0   180362289   VEHICLE THEFT  37.775207 -122.411912  05/15/2018  2018   \n",
       "1   180360948    NON-CRIMINAL  37.775146 -122.419258  05/15/2018  2018   \n",
       "2   180360879  OTHER OFFENSES  37.757101 -122.417813  05/15/2018  2018   \n",
       "3   180360879  OTHER OFFENSES  37.757101 -122.417813  05/15/2018  2018   \n",
       "4   180360879  OTHER OFFENSES  37.757101 -122.417813  05/15/2018  2018   \n",
       "\n",
       "  PdDistrict  \n",
       "0   SOUTHERN  \n",
       "1   SOUTHERN  \n",
       "2    MISSION  \n",
       "3    MISSION  \n",
       "4    MISSION  "
      ]
     },
     "execution_count": 30,
     "metadata": {},
     "output_type": "execute_result"
    }
   ],
   "source": [
    "police.Year = police.Year.astype(int)\n",
    "police = police.loc[police.Year.isin([2016,2017,2018])]\n",
    "police=police[['IncidntNum','Category','lat','lon','Date', 'Year', 'PdDistrict']]\n",
    "police.head()"
   ]
  },
  {
   "cell_type": "code",
   "execution_count": 31,
   "metadata": {},
   "outputs": [
    {
     "data": {
      "text/html": [
       "<div>\n",
       "<style scoped>\n",
       "    .dataframe tbody tr th:only-of-type {\n",
       "        vertical-align: middle;\n",
       "    }\n",
       "\n",
       "    .dataframe tbody tr th {\n",
       "        vertical-align: top;\n",
       "    }\n",
       "\n",
       "    .dataframe thead th {\n",
       "        text-align: right;\n",
       "    }\n",
       "</style>\n",
       "<table border=\"1\" class=\"dataframe\">\n",
       "  <thead>\n",
       "    <tr style=\"text-align: right;\">\n",
       "      <th></th>\n",
       "      <th>IncidntNum</th>\n",
       "      <th>Category</th>\n",
       "      <th>lat</th>\n",
       "      <th>lon</th>\n",
       "      <th>Date</th>\n",
       "      <th>Year</th>\n",
       "      <th>PdDistrict</th>\n",
       "    </tr>\n",
       "  </thead>\n",
       "  <tbody>\n",
       "    <tr>\n",
       "      <th>0</th>\n",
       "      <td>180362289</td>\n",
       "      <td>VEHICLE THEFT</td>\n",
       "      <td>37.775207</td>\n",
       "      <td>-122.411912</td>\n",
       "      <td>05/15/2018</td>\n",
       "      <td>2018</td>\n",
       "      <td>SOUTHERN</td>\n",
       "    </tr>\n",
       "    <tr>\n",
       "      <th>1</th>\n",
       "      <td>180360948</td>\n",
       "      <td>NON-CRIMINAL</td>\n",
       "      <td>37.775146</td>\n",
       "      <td>-122.419258</td>\n",
       "      <td>05/15/2018</td>\n",
       "      <td>2018</td>\n",
       "      <td>SOUTHERN</td>\n",
       "    </tr>\n",
       "    <tr>\n",
       "      <th>2</th>\n",
       "      <td>180360879</td>\n",
       "      <td>OTHER OFFENSES</td>\n",
       "      <td>37.757101</td>\n",
       "      <td>-122.417813</td>\n",
       "      <td>05/15/2018</td>\n",
       "      <td>2018</td>\n",
       "      <td>MISSION</td>\n",
       "    </tr>\n",
       "    <tr>\n",
       "      <th>3</th>\n",
       "      <td>180360879</td>\n",
       "      <td>OTHER OFFENSES</td>\n",
       "      <td>37.757101</td>\n",
       "      <td>-122.417813</td>\n",
       "      <td>05/15/2018</td>\n",
       "      <td>2018</td>\n",
       "      <td>MISSION</td>\n",
       "    </tr>\n",
       "    <tr>\n",
       "      <th>4</th>\n",
       "      <td>180360879</td>\n",
       "      <td>OTHER OFFENSES</td>\n",
       "      <td>37.757101</td>\n",
       "      <td>-122.417813</td>\n",
       "      <td>05/15/2018</td>\n",
       "      <td>2018</td>\n",
       "      <td>MISSION</td>\n",
       "    </tr>\n",
       "  </tbody>\n",
       "</table>\n",
       "</div>"
      ],
      "text/plain": [
       "   IncidntNum        Category        lat         lon        Date  Year  \\\n",
       "0   180362289   VEHICLE THEFT  37.775207 -122.411912  05/15/2018  2018   \n",
       "1   180360948    NON-CRIMINAL  37.775146 -122.419258  05/15/2018  2018   \n",
       "2   180360879  OTHER OFFENSES  37.757101 -122.417813  05/15/2018  2018   \n",
       "3   180360879  OTHER OFFENSES  37.757101 -122.417813  05/15/2018  2018   \n",
       "4   180360879  OTHER OFFENSES  37.757101 -122.417813  05/15/2018  2018   \n",
       "\n",
       "  PdDistrict  \n",
       "0   SOUTHERN  \n",
       "1   SOUTHERN  \n",
       "2    MISSION  \n",
       "3    MISSION  \n",
       "4    MISSION  "
      ]
     },
     "execution_count": 31,
     "metadata": {},
     "output_type": "execute_result"
    }
   ],
   "source": [
    "# combine two data sets to have all records of the last three years\n",
    "police_all = pd.concat([police,police2018])\n",
    "police_all = police_all.loc[~police_all.lat.isna()]\n",
    "police_all.head()"
   ]
  },
  {
   "cell_type": "code",
   "execution_count": 32,
   "metadata": {},
   "outputs": [
    {
     "data": {
      "text/plain": [
       "499136"
      ]
     },
     "execution_count": 32,
     "metadata": {},
     "output_type": "execute_result"
    }
   ],
   "source": [
    "police_all.shape[0]"
   ]
  },
  {
   "cell_type": "code",
   "execution_count": 33,
   "metadata": {},
   "outputs": [],
   "source": [
    "def distance(a, b, c, d):\n",
    "    dis = ((a-c)**2 + (b-d)**2)**(1/2)\n",
    "    return dis"
   ]
  },
  {
   "cell_type": "code",
   "execution_count": 34,
   "metadata": {},
   "outputs": [
    {
     "data": {
      "text/html": [
       "<div>\n",
       "<style scoped>\n",
       "    .dataframe tbody tr th:only-of-type {\n",
       "        vertical-align: middle;\n",
       "    }\n",
       "\n",
       "    .dataframe tbody tr th {\n",
       "        vertical-align: top;\n",
       "    }\n",
       "\n",
       "    .dataframe thead th {\n",
       "        text-align: right;\n",
       "    }\n",
       "</style>\n",
       "<table border=\"1\" class=\"dataframe\">\n",
       "  <thead>\n",
       "    <tr style=\"text-align: right;\">\n",
       "      <th></th>\n",
       "      <th>ZIP</th>\n",
       "      <th>LAT</th>\n",
       "      <th>LNG</th>\n",
       "    </tr>\n",
       "  </thead>\n",
       "  <tbody>\n",
       "    <tr>\n",
       "      <th>30954</th>\n",
       "      <td>94002</td>\n",
       "      <td>37.514352</td>\n",
       "      <td>-122.298896</td>\n",
       "    </tr>\n",
       "    <tr>\n",
       "      <th>30955</th>\n",
       "      <td>94005</td>\n",
       "      <td>37.688826</td>\n",
       "      <td>-122.408935</td>\n",
       "    </tr>\n",
       "    <tr>\n",
       "      <th>30956</th>\n",
       "      <td>94010</td>\n",
       "      <td>37.570280</td>\n",
       "      <td>-122.365778</td>\n",
       "    </tr>\n",
       "    <tr>\n",
       "      <th>30957</th>\n",
       "      <td>94014</td>\n",
       "      <td>37.690884</td>\n",
       "      <td>-122.447441</td>\n",
       "    </tr>\n",
       "    <tr>\n",
       "      <th>30958</th>\n",
       "      <td>94015</td>\n",
       "      <td>37.681264</td>\n",
       "      <td>-122.480589</td>\n",
       "    </tr>\n",
       "  </tbody>\n",
       "</table>\n",
       "</div>"
      ],
      "text/plain": [
       "         ZIP        LAT         LNG\n",
       "30954  94002  37.514352 -122.298896\n",
       "30955  94005  37.688826 -122.408935\n",
       "30956  94010  37.570280 -122.365778\n",
       "30957  94014  37.690884 -122.447441\n",
       "30958  94015  37.681264 -122.480589"
      ]
     },
     "execution_count": 34,
     "metadata": {},
     "output_type": "execute_result"
    }
   ],
   "source": [
    "# getting zipcode coordinates data\n",
    "zipcode = pd.read_csv(\"/Users/yao/Downloads/zipcode.csv\")\n",
    "zipcode = zipcode.loc[zipcode.ZIP//1000==94, ['ZIP', 'LAT', 'LNG']]\n",
    "zipcode.head()"
   ]
  },
  {
   "cell_type": "code",
   "execution_count": 35,
   "metadata": {},
   "outputs": [],
   "source": [
    "policelist = []\n",
    "for index, row in police_all.iterrows():\n",
    "    policelist.append((index, row['IncidntNum'], row['Category'], row['lat'], row['lon'], row['Date'], row['PdDistrict']))"
   ]
  },
  {
   "cell_type": "code",
   "execution_count": 36,
   "metadata": {},
   "outputs": [],
   "source": [
    "ziplist=[]\n",
    "for index, row in zipcode.iterrows():\n",
    "    ziplist.append((index, row['ZIP'], row['LAT'], row['LNG']))"
   ]
  },
  {
   "cell_type": "code",
   "execution_count": 37,
   "metadata": {},
   "outputs": [],
   "source": [
    "# getting the zipcode of crime based on shortest distances\n",
    "lot = []\n",
    "for i in policelist:\n",
    "    dist = 1000000000000\n",
    "    zipcode = 0\n",
    "    for j in ziplist:\n",
    "        temp = distance(i[3], i[4], j[2], j[3])\n",
    "        if dist > temp:\n",
    "            dist = temp\n",
    "            zipcode = j[1]\n",
    "    i = i + (zipcode,)\n",
    "    lot.append(i)"
   ]
  },
  {
   "cell_type": "code",
   "execution_count": 38,
   "metadata": {},
   "outputs": [],
   "source": [
    "police_zip = pd.DataFrame(lot, columns =['index','IncidntNum','Category', 'lat', 'lon', 'Date','PdDistrict','zip']) "
   ]
  },
  {
   "cell_type": "code",
   "execution_count": 39,
   "metadata": {},
   "outputs": [],
   "source": [
    "police_zip.Date=pd.to_datetime(police_zip.Date)\n",
    "police_zip['Year']=police_zip.Date.dt.year"
   ]
  },
  {
   "cell_type": "code",
   "execution_count": 44,
   "metadata": {},
   "outputs": [
    {
     "data": {
      "text/html": [
       "<div>\n",
       "<style scoped>\n",
       "    .dataframe tbody tr th:only-of-type {\n",
       "        vertical-align: middle;\n",
       "    }\n",
       "\n",
       "    .dataframe tbody tr th {\n",
       "        vertical-align: top;\n",
       "    }\n",
       "\n",
       "    .dataframe thead th {\n",
       "        text-align: right;\n",
       "    }\n",
       "</style>\n",
       "<table border=\"1\" class=\"dataframe\">\n",
       "  <thead>\n",
       "    <tr style=\"text-align: right;\">\n",
       "      <th></th>\n",
       "      <th>index</th>\n",
       "      <th>IncidntNum</th>\n",
       "      <th>Category</th>\n",
       "      <th>lat</th>\n",
       "      <th>lon</th>\n",
       "      <th>Date</th>\n",
       "      <th>PdDistrict</th>\n",
       "      <th>zip</th>\n",
       "      <th>Year</th>\n",
       "    </tr>\n",
       "  </thead>\n",
       "  <tbody>\n",
       "    <tr>\n",
       "      <th>0</th>\n",
       "      <td>0</td>\n",
       "      <td>180362289</td>\n",
       "      <td>VEHICLE THEFT</td>\n",
       "      <td>37.775207</td>\n",
       "      <td>-122.411912</td>\n",
       "      <td>2018-05-15</td>\n",
       "      <td>SOUTHERN</td>\n",
       "      <td>94103.0</td>\n",
       "      <td>2018</td>\n",
       "    </tr>\n",
       "    <tr>\n",
       "      <th>1</th>\n",
       "      <td>1</td>\n",
       "      <td>180360948</td>\n",
       "      <td>NON-CRIMINAL</td>\n",
       "      <td>37.775146</td>\n",
       "      <td>-122.419258</td>\n",
       "      <td>2018-05-15</td>\n",
       "      <td>SOUTHERN</td>\n",
       "      <td>94102.0</td>\n",
       "      <td>2018</td>\n",
       "    </tr>\n",
       "    <tr>\n",
       "      <th>2</th>\n",
       "      <td>2</td>\n",
       "      <td>180360879</td>\n",
       "      <td>OTHER OFFENSES</td>\n",
       "      <td>37.757101</td>\n",
       "      <td>-122.417813</td>\n",
       "      <td>2018-05-15</td>\n",
       "      <td>MISSION</td>\n",
       "      <td>94110.0</td>\n",
       "      <td>2018</td>\n",
       "    </tr>\n",
       "    <tr>\n",
       "      <th>3</th>\n",
       "      <td>3</td>\n",
       "      <td>180360879</td>\n",
       "      <td>OTHER OFFENSES</td>\n",
       "      <td>37.757101</td>\n",
       "      <td>-122.417813</td>\n",
       "      <td>2018-05-15</td>\n",
       "      <td>MISSION</td>\n",
       "      <td>94110.0</td>\n",
       "      <td>2018</td>\n",
       "    </tr>\n",
       "    <tr>\n",
       "      <th>4</th>\n",
       "      <td>4</td>\n",
       "      <td>180360879</td>\n",
       "      <td>OTHER OFFENSES</td>\n",
       "      <td>37.757101</td>\n",
       "      <td>-122.417813</td>\n",
       "      <td>2018-05-15</td>\n",
       "      <td>MISSION</td>\n",
       "      <td>94110.0</td>\n",
       "      <td>2018</td>\n",
       "    </tr>\n",
       "  </tbody>\n",
       "</table>\n",
       "</div>"
      ],
      "text/plain": [
       "   index  IncidntNum        Category        lat         lon       Date  \\\n",
       "0      0   180362289   VEHICLE THEFT  37.775207 -122.411912 2018-05-15   \n",
       "1      1   180360948    NON-CRIMINAL  37.775146 -122.419258 2018-05-15   \n",
       "2      2   180360879  OTHER OFFENSES  37.757101 -122.417813 2018-05-15   \n",
       "3      3   180360879  OTHER OFFENSES  37.757101 -122.417813 2018-05-15   \n",
       "4      4   180360879  OTHER OFFENSES  37.757101 -122.417813 2018-05-15   \n",
       "\n",
       "  PdDistrict      zip  Year  \n",
       "0   SOUTHERN  94103.0  2018  \n",
       "1   SOUTHERN  94102.0  2018  \n",
       "2    MISSION  94110.0  2018  \n",
       "3    MISSION  94110.0  2018  \n",
       "4    MISSION  94110.0  2018  "
      ]
     },
     "execution_count": 44,
     "metadata": {},
     "output_type": "execute_result"
    }
   ],
   "source": [
    "police_zip.dropna(inplace=True)\n",
    "police_zip.head()"
   ]
  },
  {
   "cell_type": "code",
   "execution_count": 50,
   "metadata": {},
   "outputs": [],
   "source": [
    "# filter out non-violent crimes\n",
    "violence = ['VEHICLE THEFT', 'ROBBERY',\n",
    "       'DRUG/NARCOTIC', 'PROSTITUTION',\n",
    "       'ASSAULT', 'LARCENY/THEFT', 'VANDALISM', 'STOLEN PROPERTY',\n",
    "       'KIDNAPPING', 'BURGLARY', 'WEAPON LAWS','TRESPASS', 'SEX OFFENSES, FORCIBLE', \n",
    "       'ARSON', 'SEX OFFENSES, NON FORCIBLE', \n",
    "       'Lost Property', 'Larceny Theft', 'Sex Offense',\n",
    "       'Offences Against The Family And Children', \n",
    "       'Burglary', 'Assault', \n",
    "       'Robbery', 'Motor Vehicle Theft', 'Vandalism', \n",
    "       'Drug Offense', 'Arson', 'Weapons Offense', 'Weapons Carrying Etc',\n",
    "        'Human Trafficking (A)', 'Commercial Sex Acts',\n",
    "       'Juvenile Offenses', 'Stolen Property', \n",
    "       'Drug Violation',  'Prostitution', 'Rape',  'Motor Vehicle Theft?',\n",
    "        'Human Trafficking', 'Commercial Sex Acts',\n",
    "       'Homicide', 'Weapons Offence']"
   ]
  },
  {
   "cell_type": "code",
   "execution_count": 65,
   "metadata": {},
   "outputs": [
    {
     "data": {
      "text/html": [
       "<div>\n",
       "<style scoped>\n",
       "    .dataframe tbody tr th:only-of-type {\n",
       "        vertical-align: middle;\n",
       "    }\n",
       "\n",
       "    .dataframe tbody tr th {\n",
       "        vertical-align: top;\n",
       "    }\n",
       "\n",
       "    .dataframe thead th {\n",
       "        text-align: right;\n",
       "    }\n",
       "</style>\n",
       "<table border=\"1\" class=\"dataframe\">\n",
       "  <thead>\n",
       "    <tr style=\"text-align: right;\">\n",
       "      <th></th>\n",
       "      <th>index</th>\n",
       "      <th>IncidntNum</th>\n",
       "      <th>Category</th>\n",
       "      <th>lat</th>\n",
       "      <th>lon</th>\n",
       "      <th>Date</th>\n",
       "      <th>PdDistrict</th>\n",
       "      <th>zip</th>\n",
       "      <th>Year</th>\n",
       "    </tr>\n",
       "  </thead>\n",
       "  <tbody>\n",
       "    <tr>\n",
       "      <th>0</th>\n",
       "      <td>0</td>\n",
       "      <td>180362289</td>\n",
       "      <td>VEHICLE THEFT</td>\n",
       "      <td>37.775207</td>\n",
       "      <td>-122.411912</td>\n",
       "      <td>2018-05-15</td>\n",
       "      <td>SOUTHERN</td>\n",
       "      <td>94103</td>\n",
       "      <td>2018</td>\n",
       "    </tr>\n",
       "    <tr>\n",
       "      <th>6</th>\n",
       "      <td>6</td>\n",
       "      <td>180360835</td>\n",
       "      <td>ROBBERY</td>\n",
       "      <td>37.781954</td>\n",
       "      <td>-122.410042</td>\n",
       "      <td>2018-05-15</td>\n",
       "      <td>SOUTHERN</td>\n",
       "      <td>94103</td>\n",
       "      <td>2018</td>\n",
       "    </tr>\n",
       "    <tr>\n",
       "      <th>7</th>\n",
       "      <td>7</td>\n",
       "      <td>180360835</td>\n",
       "      <td>DRUG/NARCOTIC</td>\n",
       "      <td>37.781954</td>\n",
       "      <td>-122.410042</td>\n",
       "      <td>2018-05-15</td>\n",
       "      <td>SOUTHERN</td>\n",
       "      <td>94103</td>\n",
       "      <td>2018</td>\n",
       "    </tr>\n",
       "    <tr>\n",
       "      <th>10</th>\n",
       "      <td>10</td>\n",
       "      <td>180360788</td>\n",
       "      <td>PROSTITUTION</td>\n",
       "      <td>37.758697</td>\n",
       "      <td>-122.417964</td>\n",
       "      <td>2018-05-14</td>\n",
       "      <td>MISSION</td>\n",
       "      <td>94110</td>\n",
       "      <td>2018</td>\n",
       "    </tr>\n",
       "    <tr>\n",
       "      <th>12</th>\n",
       "      <td>12</td>\n",
       "      <td>180360603</td>\n",
       "      <td>ROBBERY</td>\n",
       "      <td>37.785215</td>\n",
       "      <td>-122.417085</td>\n",
       "      <td>2018-05-14</td>\n",
       "      <td>TENDERLOIN</td>\n",
       "      <td>94102</td>\n",
       "      <td>2018</td>\n",
       "    </tr>\n",
       "  </tbody>\n",
       "</table>\n",
       "</div>"
      ],
      "text/plain": [
       "    index  IncidntNum       Category        lat         lon       Date  \\\n",
       "0       0   180362289  VEHICLE THEFT  37.775207 -122.411912 2018-05-15   \n",
       "6       6   180360835        ROBBERY  37.781954 -122.410042 2018-05-15   \n",
       "7       7   180360835  DRUG/NARCOTIC  37.781954 -122.410042 2018-05-15   \n",
       "10     10   180360788   PROSTITUTION  37.758697 -122.417964 2018-05-14   \n",
       "12     12   180360603        ROBBERY  37.785215 -122.417085 2018-05-14   \n",
       "\n",
       "    PdDistrict    zip  Year  \n",
       "0     SOUTHERN  94103  2018  \n",
       "6     SOUTHERN  94103  2018  \n",
       "7     SOUTHERN  94103  2018  \n",
       "10     MISSION  94110  2018  \n",
       "12  TENDERLOIN  94102  2018  "
      ]
     },
     "execution_count": 65,
     "metadata": {},
     "output_type": "execute_result"
    }
   ],
   "source": [
    "police_zip_violence = police_zip.loc[police_zip.Category.isin(violence)]\n",
    "police_zip_violence.zip = police_zip_violence.zip.astype(str)\n",
    "police_zip_violence.zip = police_zip_violence.zip.str[:-2]\n",
    "police_zip_violence.head()"
   ]
  },
  {
   "cell_type": "code",
   "execution_count": 66,
   "metadata": {},
   "outputs": [
    {
     "name": "stdout",
     "output_type": "stream",
     "text": [
      "The rpy2.ipython extension is already loaded. To reload it, use:\n",
      "  %reload_ext rpy2.ipython\n"
     ]
    },
    {
     "data": {
      "text/plain": [
       "array(['ggplot2', 'tools', 'stats', 'graphics', 'grDevices', 'utils',\n",
       "       'datasets', 'methods', 'base'], dtype='<U9')"
      ]
     },
     "execution_count": 66,
     "metadata": {},
     "output_type": "execute_result"
    }
   ],
   "source": [
    "%load_ext rpy2.ipython\n",
    "%R library(ggplot2)"
   ]
  },
  {
   "cell_type": "code",
   "execution_count": 67,
   "metadata": {},
   "outputs": [],
   "source": [
    "%R -i police_zip_violence"
   ]
  },
  {
   "cell_type": "markdown",
   "metadata": {},
   "source": [
    "### Relationship between crime rate (violence) and geo-region"
   ]
  },
  {
   "cell_type": "code",
   "execution_count": 69,
   "metadata": {},
   "outputs": [
    {
     "data": {
      "image/png": "[encoded data removed]"
     },
     "metadata": {},
     "output_type": "display_data"
    }
   ],
   "source": [
    "%%R\n",
    "ggplot() + geom_bar(data=police_zip_violence, aes(x=zip))"
   ]
  },
  {
   "cell_type": "code",
   "execution_count": null,
   "metadata": {},
   "outputs": [],
   "source": []
  },
  {
   "cell_type": "code",
   "execution_count": null,
   "metadata": {},
   "outputs": [],
   "source": []
  }
 ],
 "metadata": {
  "kernelspec": {
   "display_name": "Python 3",
   "language": "python",
   "name": "python3"
  },
  "language_info": {
   "codemirror_mode": {
    "name": "ipython",
    "version": 3
   },
   "file_extension": ".py",
   "mimetype": "text/x-python",
   "name": "python",
   "nbconvert_exporter": "python",
   "pygments_lexer": "ipython3",
   "version": "3.7.3"
  }
 },
 "nbformat": 4,
 "nbformat_minor": 2
}
